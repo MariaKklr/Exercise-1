{
 "cells": [
  {
   "cell_type": "code",
   "execution_count": 1,
   "id": "707999e2-0fad-4726-9c16-65ccf28b5e17",
   "metadata": {},
   "outputs": [],
   "source": [
    "ice_cream_rating = 8"
   ]
  },
  {
   "cell_type": "code",
   "execution_count": 2,
   "id": "632c7469-b8a4-402a-a196-9c1926a17e0f",
   "metadata": {},
   "outputs": [],
   "source": [
    "sleeping_rating = 9"
   ]
  },
  {
   "cell_type": "code",
   "execution_count": 3,
   "id": "b0bee15e-4430-4c61-9053-4f4b942cb47b",
   "metadata": {},
   "outputs": [
    {
     "name": "stdin",
     "output_type": "stream",
     "text": [
      " Maria\n"
     ]
    }
   ],
   "source": [
    "first_name = input()"
   ]
  },
  {
   "cell_type": "code",
   "execution_count": 4,
   "id": "cd6dc046-67da-47d7-84a7-c62b076cf5a8",
   "metadata": {},
   "outputs": [
    {
     "name": "stdin",
     "output_type": "stream",
     "text": [
      " Kokkaliari\n"
     ]
    }
   ],
   "source": [
    "last_name = input()"
   ]
  },
  {
   "cell_type": "code",
   "execution_count": 5,
   "id": "9cdadb22-cae2-47ee-9bb8-7ba870d4a120",
   "metadata": {},
   "outputs": [],
   "source": [
    "my_name = first_name + ' ' + last_name"
   ]
  },
  {
   "cell_type": "code",
   "execution_count": 6,
   "id": "79439cc4-dbfb-4121-8a83-27bfbaeef901",
   "metadata": {},
   "outputs": [
    {
     "name": "stdout",
     "output_type": "stream",
     "text": [
      "Maria Kokkaliari\n"
     ]
    }
   ],
   "source": [
    "print(my_name)"
   ]
  },
  {
   "cell_type": "code",
   "execution_count": 7,
   "id": "27fc4fce-8e8a-4710-8446-f0511bede962",
   "metadata": {},
   "outputs": [],
   "source": [
    "happiness_rating = (ice_cream_rating + sleeping_rating) / 2"
   ]
  },
  {
   "cell_type": "code",
   "execution_count": 8,
   "id": "28ef7ae9-d74e-49c4-8b0a-54a43e5fb59d",
   "metadata": {},
   "outputs": [
    {
     "name": "stdout",
     "output_type": "stream",
     "text": [
      "8.5\n"
     ]
    }
   ],
   "source": [
    "print(happiness_rating)"
   ]
  },
  {
   "cell_type": "code",
   "execution_count": 9,
   "id": "38eac37a-008e-485d-a288-8c0390ef027f",
   "metadata": {},
   "outputs": [
    {
     "data": {
      "text/plain": [
       "float"
      ]
     },
     "execution_count": 9,
     "metadata": {},
     "output_type": "execute_result"
    }
   ],
   "source": [
    "type(ice_cream_rating)\n",
    "type(sleeping_rating) \n",
    "type(happiness_rating)"
   ]
  },
  {
   "cell_type": "code",
   "execution_count": 10,
   "id": "bb69770f-8ce7-4cb2-bc21-b2de16abc394",
   "metadata": {},
   "outputs": [
    {
     "name": "stdout",
     "output_type": "stream",
     "text": [
      "My ice-cream rating is 8\n",
      "My sleeping rating is 9\n",
      "My average happiness rating from the above is 8.5\n"
     ]
    }
   ],
   "source": [
    "print('My ice-cream rating is', ice_cream_rating)\n",
    "print('My sleeping rating is', sleeping_rating)\n",
    "print('My average happiness rating from the above is', happiness_rating)"
   ]
  },
  {
   "cell_type": "code",
   "execution_count": 13,
   "id": "1b848238-9f7c-42b9-b7fc-3f15231c8169",
   "metadata": {},
   "outputs": [
    {
     "name": "stdout",
     "output_type": "stream",
     "text": [
      "My name is Maria and I give eating ice-rating a score of 8 out of 10.\n",
      "I am Maria Kokkaliari and my sleeping enjoyment rating is 9/10/10/10 .\n",
      "Based on the factors above, my happiness rating is 8.5 out of 10 or 85.0% !\n"
     ]
    }
   ],
   "source": [
    "print('My name is', first_name,'and I give eating ice-rating a score of', ice_cream_rating, 'out of 10.')\n",
    "sleeping_rating = str(sleeping_rating) + '/10'\n",
    "print('I am', first_name, last_name, 'and my sleeping enjoyment rating is', sleeping_rating, '.')\n",
    "per_happiness_rating = str(happiness_rating * 10) + '%'\n",
    "print('Based on the factors above, my happiness rating is', happiness_rating, 'out of 10 or', per_happiness_rating, '!')"
   ]
  },
  {
   "cell_type": "code",
   "execution_count": null,
   "id": "eac7ffa5-4556-48b1-96ec-0825d86f4d5e",
   "metadata": {},
   "outputs": [],
   "source": []
  }
 ],
 "metadata": {
  "kernelspec": {
   "display_name": "Python 3 (ipykernel)",
   "language": "python",
   "name": "python3"
  },
  "language_info": {
   "codemirror_mode": {
    "name": "ipython",
    "version": 3
   },
   "file_extension": ".py",
   "mimetype": "text/x-python",
   "name": "python",
   "nbconvert_exporter": "python",
   "pygments_lexer": "ipython3",
   "version": "3.8.10"
  }
 },
 "nbformat": 4,
 "nbformat_minor": 5
}
